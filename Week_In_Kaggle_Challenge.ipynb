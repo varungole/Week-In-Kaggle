{
  "nbformat": 4,
  "nbformat_minor": 0,
  "metadata": {
    "colab": {
      "provenance": [],
      "authorship_tag": "ABX9TyN/H30gRXHWqA1BztS4XdCT",
      "include_colab_link": true
    },
    "kernelspec": {
      "name": "python3",
      "display_name": "Python 3"
    },
    "language_info": {
      "name": "python"
    }
  },
  "cells": [
    {
      "cell_type": "markdown",
      "metadata": {
        "id": "view-in-github",
        "colab_type": "text"
      },
      "source": [
        "<a href=\"https://colab.research.google.com/github/varungole/Week-In-Kaggle/blob/main/Week_In_Kaggle_Challenge.ipynb\" target=\"_parent\"><img src=\"https://colab.research.google.com/assets/colab-badge.svg\" alt=\"Open In Colab\"/></a>"
      ]
    },
    {
      "cell_type": "code",
      "execution_count": null,
      "metadata": {
        "id": "V7SId9Q1v6BT"
      },
      "outputs": [],
      "source": [
        "import numpy as np # linear algebra\n",
        "import pandas as pd # data processing, CSV file I/O (e.g. pd.read_csv)\n",
        "import os\n",
        "import cv2\n",
        "import matplotlib.pyplot as plt\n",
        "from sklearn.model_selection import train_test_split\n",
        "import torch\n",
        "from torch.utils.data import DataLoader, TensorDataset\n",
        "from torchvision.utils import make_grid\n",
        "\n",
        "#neural net imports\n",
        "import torch.nn as nn\n",
        "import torch.nn.functional as F\n",
        "import torch.optim as optim\n",
        "from torchvision import models\n",
        "\n",
        "from datetime import datetime\n",
        "import warnings\n",
        "warnings.filterwarnings('ignore')"
      ]
    },
    {
      "cell_type": "code",
      "source": [
        "train = pd.read_csv('train.csv')\n",
        "test = pd.read_csv('test.csv')"
      ],
      "metadata": {
        "id": "UV-1vxFYwwln"
      },
      "execution_count": null,
      "outputs": []
    },
    {
      "cell_type": "code",
      "source": [
        "train.head()"
      ],
      "metadata": {
        "colab": {
          "base_uri": "https://localhost:8080/",
          "height": 256
        },
        "id": "XFld0Ddgxktt",
        "outputId": "8af1dd86-ebea-4979-b692-c2e88d7a2775"
      },
      "execution_count": null,
      "outputs": [
        {
          "output_type": "execute_result",
          "data": {
            "text/plain": [
              "   id  1x1  1x2  1x3  1x4  1x5  1x6  1x7  1x8  1x9  ...  28x20  28x21  28x22  \\\n",
              "0   1    0    0    0    0    0    0    0    0    0  ...      0      0      0   \n",
              "1   2    0    0    0    0    0    0    0    0    0  ...      0      0      0   \n",
              "2   3    0    0    0    0    0    0    0    0    0  ...      0      0      0   \n",
              "3   4    0    0    0    0    0    0    0    0    0  ...      0      0      0   \n",
              "4   5    0    0    0    0    0    0    0    0    0  ...      0      0      0   \n",
              "\n",
              "   28x23  28x24  28x25  28x26  28x27  28x28  label  \n",
              "0      0      0      0      0      0      0      9  \n",
              "1      0      0      0      0      0      0      9  \n",
              "2      0      0      0      0      0      0      7  \n",
              "3      0      0      0      0      0      0      0  \n",
              "4      0      0      0      0      0      0      9  \n",
              "\n",
              "[5 rows x 786 columns]"
            ],
            "text/html": [
              "\n",
              "  <div id=\"df-4a8e26a6-6dff-4251-9b90-b5eefdbd35fc\" class=\"colab-df-container\">\n",
              "    <div>\n",
              "<style scoped>\n",
              "    .dataframe tbody tr th:only-of-type {\n",
              "        vertical-align: middle;\n",
              "    }\n",
              "\n",
              "    .dataframe tbody tr th {\n",
              "        vertical-align: top;\n",
              "    }\n",
              "\n",
              "    .dataframe thead th {\n",
              "        text-align: right;\n",
              "    }\n",
              "</style>\n",
              "<table border=\"1\" class=\"dataframe\">\n",
              "  <thead>\n",
              "    <tr style=\"text-align: right;\">\n",
              "      <th></th>\n",
              "      <th>id</th>\n",
              "      <th>1x1</th>\n",
              "      <th>1x2</th>\n",
              "      <th>1x3</th>\n",
              "      <th>1x4</th>\n",
              "      <th>1x5</th>\n",
              "      <th>1x6</th>\n",
              "      <th>1x7</th>\n",
              "      <th>1x8</th>\n",
              "      <th>1x9</th>\n",
              "      <th>...</th>\n",
              "      <th>28x20</th>\n",
              "      <th>28x21</th>\n",
              "      <th>28x22</th>\n",
              "      <th>28x23</th>\n",
              "      <th>28x24</th>\n",
              "      <th>28x25</th>\n",
              "      <th>28x26</th>\n",
              "      <th>28x27</th>\n",
              "      <th>28x28</th>\n",
              "      <th>label</th>\n",
              "    </tr>\n",
              "  </thead>\n",
              "  <tbody>\n",
              "    <tr>\n",
              "      <th>0</th>\n",
              "      <td>1</td>\n",
              "      <td>0</td>\n",
              "      <td>0</td>\n",
              "      <td>0</td>\n",
              "      <td>0</td>\n",
              "      <td>0</td>\n",
              "      <td>0</td>\n",
              "      <td>0</td>\n",
              "      <td>0</td>\n",
              "      <td>0</td>\n",
              "      <td>...</td>\n",
              "      <td>0</td>\n",
              "      <td>0</td>\n",
              "      <td>0</td>\n",
              "      <td>0</td>\n",
              "      <td>0</td>\n",
              "      <td>0</td>\n",
              "      <td>0</td>\n",
              "      <td>0</td>\n",
              "      <td>0</td>\n",
              "      <td>9</td>\n",
              "    </tr>\n",
              "    <tr>\n",
              "      <th>1</th>\n",
              "      <td>2</td>\n",
              "      <td>0</td>\n",
              "      <td>0</td>\n",
              "      <td>0</td>\n",
              "      <td>0</td>\n",
              "      <td>0</td>\n",
              "      <td>0</td>\n",
              "      <td>0</td>\n",
              "      <td>0</td>\n",
              "      <td>0</td>\n",
              "      <td>...</td>\n",
              "      <td>0</td>\n",
              "      <td>0</td>\n",
              "      <td>0</td>\n",
              "      <td>0</td>\n",
              "      <td>0</td>\n",
              "      <td>0</td>\n",
              "      <td>0</td>\n",
              "      <td>0</td>\n",
              "      <td>0</td>\n",
              "      <td>9</td>\n",
              "    </tr>\n",
              "    <tr>\n",
              "      <th>2</th>\n",
              "      <td>3</td>\n",
              "      <td>0</td>\n",
              "      <td>0</td>\n",
              "      <td>0</td>\n",
              "      <td>0</td>\n",
              "      <td>0</td>\n",
              "      <td>0</td>\n",
              "      <td>0</td>\n",
              "      <td>0</td>\n",
              "      <td>0</td>\n",
              "      <td>...</td>\n",
              "      <td>0</td>\n",
              "      <td>0</td>\n",
              "      <td>0</td>\n",
              "      <td>0</td>\n",
              "      <td>0</td>\n",
              "      <td>0</td>\n",
              "      <td>0</td>\n",
              "      <td>0</td>\n",
              "      <td>0</td>\n",
              "      <td>7</td>\n",
              "    </tr>\n",
              "    <tr>\n",
              "      <th>3</th>\n",
              "      <td>4</td>\n",
              "      <td>0</td>\n",
              "      <td>0</td>\n",
              "      <td>0</td>\n",
              "      <td>0</td>\n",
              "      <td>0</td>\n",
              "      <td>0</td>\n",
              "      <td>0</td>\n",
              "      <td>0</td>\n",
              "      <td>0</td>\n",
              "      <td>...</td>\n",
              "      <td>0</td>\n",
              "      <td>0</td>\n",
              "      <td>0</td>\n",
              "      <td>0</td>\n",
              "      <td>0</td>\n",
              "      <td>0</td>\n",
              "      <td>0</td>\n",
              "      <td>0</td>\n",
              "      <td>0</td>\n",
              "      <td>0</td>\n",
              "    </tr>\n",
              "    <tr>\n",
              "      <th>4</th>\n",
              "      <td>5</td>\n",
              "      <td>0</td>\n",
              "      <td>0</td>\n",
              "      <td>0</td>\n",
              "      <td>0</td>\n",
              "      <td>0</td>\n",
              "      <td>0</td>\n",
              "      <td>0</td>\n",
              "      <td>0</td>\n",
              "      <td>0</td>\n",
              "      <td>...</td>\n",
              "      <td>0</td>\n",
              "      <td>0</td>\n",
              "      <td>0</td>\n",
              "      <td>0</td>\n",
              "      <td>0</td>\n",
              "      <td>0</td>\n",
              "      <td>0</td>\n",
              "      <td>0</td>\n",
              "      <td>0</td>\n",
              "      <td>9</td>\n",
              "    </tr>\n",
              "  </tbody>\n",
              "</table>\n",
              "<p>5 rows × 786 columns</p>\n",
              "</div>\n",
              "    <div class=\"colab-df-buttons\">\n",
              "\n",
              "  <div class=\"colab-df-container\">\n",
              "    <button class=\"colab-df-convert\" onclick=\"convertToInteractive('df-4a8e26a6-6dff-4251-9b90-b5eefdbd35fc')\"\n",
              "            title=\"Convert this dataframe to an interactive table.\"\n",
              "            style=\"display:none;\">\n",
              "\n",
              "  <svg xmlns=\"http://www.w3.org/2000/svg\" height=\"24px\" viewBox=\"0 -960 960 960\">\n",
              "    <path d=\"M120-120v-720h720v720H120Zm60-500h600v-160H180v160Zm220 220h160v-160H400v160Zm0 220h160v-160H400v160ZM180-400h160v-160H180v160Zm440 0h160v-160H620v160ZM180-180h160v-160H180v160Zm440 0h160v-160H620v160Z\"/>\n",
              "  </svg>\n",
              "    </button>\n",
              "\n",
              "  <style>\n",
              "    .colab-df-container {\n",
              "      display:flex;\n",
              "      gap: 12px;\n",
              "    }\n",
              "\n",
              "    .colab-df-convert {\n",
              "      background-color: #E8F0FE;\n",
              "      border: none;\n",
              "      border-radius: 50%;\n",
              "      cursor: pointer;\n",
              "      display: none;\n",
              "      fill: #1967D2;\n",
              "      height: 32px;\n",
              "      padding: 0 0 0 0;\n",
              "      width: 32px;\n",
              "    }\n",
              "\n",
              "    .colab-df-convert:hover {\n",
              "      background-color: #E2EBFA;\n",
              "      box-shadow: 0px 1px 2px rgba(60, 64, 67, 0.3), 0px 1px 3px 1px rgba(60, 64, 67, 0.15);\n",
              "      fill: #174EA6;\n",
              "    }\n",
              "\n",
              "    .colab-df-buttons div {\n",
              "      margin-bottom: 4px;\n",
              "    }\n",
              "\n",
              "    [theme=dark] .colab-df-convert {\n",
              "      background-color: #3B4455;\n",
              "      fill: #D2E3FC;\n",
              "    }\n",
              "\n",
              "    [theme=dark] .colab-df-convert:hover {\n",
              "      background-color: #434B5C;\n",
              "      box-shadow: 0px 1px 3px 1px rgba(0, 0, 0, 0.15);\n",
              "      filter: drop-shadow(0px 1px 2px rgba(0, 0, 0, 0.3));\n",
              "      fill: #FFFFFF;\n",
              "    }\n",
              "  </style>\n",
              "\n",
              "    <script>\n",
              "      const buttonEl =\n",
              "        document.querySelector('#df-4a8e26a6-6dff-4251-9b90-b5eefdbd35fc button.colab-df-convert');\n",
              "      buttonEl.style.display =\n",
              "        google.colab.kernel.accessAllowed ? 'block' : 'none';\n",
              "\n",
              "      async function convertToInteractive(key) {\n",
              "        const element = document.querySelector('#df-4a8e26a6-6dff-4251-9b90-b5eefdbd35fc');\n",
              "        const dataTable =\n",
              "          await google.colab.kernel.invokeFunction('convertToInteractive',\n",
              "                                                    [key], {});\n",
              "        if (!dataTable) return;\n",
              "\n",
              "        const docLinkHtml = 'Like what you see? Visit the ' +\n",
              "          '<a target=\"_blank\" href=https://colab.research.google.com/notebooks/data_table.ipynb>data table notebook</a>'\n",
              "          + ' to learn more about interactive tables.';\n",
              "        element.innerHTML = '';\n",
              "        dataTable['output_type'] = 'display_data';\n",
              "        await google.colab.output.renderOutput(dataTable, element);\n",
              "        const docLink = document.createElement('div');\n",
              "        docLink.innerHTML = docLinkHtml;\n",
              "        element.appendChild(docLink);\n",
              "      }\n",
              "    </script>\n",
              "  </div>\n",
              "\n",
              "\n",
              "<div id=\"df-109bee3a-88f0-49ec-8d9a-8b3f8bfc3df2\">\n",
              "  <button class=\"colab-df-quickchart\" onclick=\"quickchart('df-109bee3a-88f0-49ec-8d9a-8b3f8bfc3df2')\"\n",
              "            title=\"Suggest charts\"\n",
              "            style=\"display:none;\">\n",
              "\n",
              "<svg xmlns=\"http://www.w3.org/2000/svg\" height=\"24px\"viewBox=\"0 0 24 24\"\n",
              "     width=\"24px\">\n",
              "    <g>\n",
              "        <path d=\"M19 3H5c-1.1 0-2 .9-2 2v14c0 1.1.9 2 2 2h14c1.1 0 2-.9 2-2V5c0-1.1-.9-2-2-2zM9 17H7v-7h2v7zm4 0h-2V7h2v10zm4 0h-2v-4h2v4z\"/>\n",
              "    </g>\n",
              "</svg>\n",
              "  </button>\n",
              "\n",
              "<style>\n",
              "  .colab-df-quickchart {\n",
              "      --bg-color: #E8F0FE;\n",
              "      --fill-color: #1967D2;\n",
              "      --hover-bg-color: #E2EBFA;\n",
              "      --hover-fill-color: #174EA6;\n",
              "      --disabled-fill-color: #AAA;\n",
              "      --disabled-bg-color: #DDD;\n",
              "  }\n",
              "\n",
              "  [theme=dark] .colab-df-quickchart {\n",
              "      --bg-color: #3B4455;\n",
              "      --fill-color: #D2E3FC;\n",
              "      --hover-bg-color: #434B5C;\n",
              "      --hover-fill-color: #FFFFFF;\n",
              "      --disabled-bg-color: #3B4455;\n",
              "      --disabled-fill-color: #666;\n",
              "  }\n",
              "\n",
              "  .colab-df-quickchart {\n",
              "    background-color: var(--bg-color);\n",
              "    border: none;\n",
              "    border-radius: 50%;\n",
              "    cursor: pointer;\n",
              "    display: none;\n",
              "    fill: var(--fill-color);\n",
              "    height: 32px;\n",
              "    padding: 0;\n",
              "    width: 32px;\n",
              "  }\n",
              "\n",
              "  .colab-df-quickchart:hover {\n",
              "    background-color: var(--hover-bg-color);\n",
              "    box-shadow: 0 1px 2px rgba(60, 64, 67, 0.3), 0 1px 3px 1px rgba(60, 64, 67, 0.15);\n",
              "    fill: var(--button-hover-fill-color);\n",
              "  }\n",
              "\n",
              "  .colab-df-quickchart-complete:disabled,\n",
              "  .colab-df-quickchart-complete:disabled:hover {\n",
              "    background-color: var(--disabled-bg-color);\n",
              "    fill: var(--disabled-fill-color);\n",
              "    box-shadow: none;\n",
              "  }\n",
              "\n",
              "  .colab-df-spinner {\n",
              "    border: 2px solid var(--fill-color);\n",
              "    border-color: transparent;\n",
              "    border-bottom-color: var(--fill-color);\n",
              "    animation:\n",
              "      spin 1s steps(1) infinite;\n",
              "  }\n",
              "\n",
              "  @keyframes spin {\n",
              "    0% {\n",
              "      border-color: transparent;\n",
              "      border-bottom-color: var(--fill-color);\n",
              "      border-left-color: var(--fill-color);\n",
              "    }\n",
              "    20% {\n",
              "      border-color: transparent;\n",
              "      border-left-color: var(--fill-color);\n",
              "      border-top-color: var(--fill-color);\n",
              "    }\n",
              "    30% {\n",
              "      border-color: transparent;\n",
              "      border-left-color: var(--fill-color);\n",
              "      border-top-color: var(--fill-color);\n",
              "      border-right-color: var(--fill-color);\n",
              "    }\n",
              "    40% {\n",
              "      border-color: transparent;\n",
              "      border-right-color: var(--fill-color);\n",
              "      border-top-color: var(--fill-color);\n",
              "    }\n",
              "    60% {\n",
              "      border-color: transparent;\n",
              "      border-right-color: var(--fill-color);\n",
              "    }\n",
              "    80% {\n",
              "      border-color: transparent;\n",
              "      border-right-color: var(--fill-color);\n",
              "      border-bottom-color: var(--fill-color);\n",
              "    }\n",
              "    90% {\n",
              "      border-color: transparent;\n",
              "      border-bottom-color: var(--fill-color);\n",
              "    }\n",
              "  }\n",
              "</style>\n",
              "\n",
              "  <script>\n",
              "    async function quickchart(key) {\n",
              "      const quickchartButtonEl =\n",
              "        document.querySelector('#' + key + ' button');\n",
              "      quickchartButtonEl.disabled = true;  // To prevent multiple clicks.\n",
              "      quickchartButtonEl.classList.add('colab-df-spinner');\n",
              "      try {\n",
              "        const charts = await google.colab.kernel.invokeFunction(\n",
              "            'suggestCharts', [key], {});\n",
              "      } catch (error) {\n",
              "        console.error('Error during call to suggestCharts:', error);\n",
              "      }\n",
              "      quickchartButtonEl.classList.remove('colab-df-spinner');\n",
              "      quickchartButtonEl.classList.add('colab-df-quickchart-complete');\n",
              "    }\n",
              "    (() => {\n",
              "      let quickchartButtonEl =\n",
              "        document.querySelector('#df-109bee3a-88f0-49ec-8d9a-8b3f8bfc3df2 button');\n",
              "      quickchartButtonEl.style.display =\n",
              "        google.colab.kernel.accessAllowed ? 'block' : 'none';\n",
              "    })();\n",
              "  </script>\n",
              "</div>\n",
              "\n",
              "    </div>\n",
              "  </div>\n"
            ]
          },
          "metadata": {},
          "execution_count": 11
        }
      ]
    },
    {
      "cell_type": "code",
      "source": [
        "print(f\"Training Dataset: \\n\\tnumber of images: {train.shape[0]}\\n\\tnumber of features: {train.shape[1]}\")\n",
        "print(f\"\\tmissing data: {train.isnull().sum().sum()}\")"
      ],
      "metadata": {
        "colab": {
          "base_uri": "https://localhost:8080/"
        },
        "id": "I4yQKFsaxqmC",
        "outputId": "0283d3fd-6334-4528-ffbd-1fdd3d96a58b"
      },
      "execution_count": null,
      "outputs": [
        {
          "output_type": "stream",
          "name": "stdout",
          "text": [
            "Training Dataset: \n",
            "\tnumber of images: 8000\n",
            "\tnumber of features: 786\n",
            "\tmissing data: 0\n"
          ]
        }
      ]
    },
    {
      "cell_type": "code",
      "source": [
        "labels = train.label.value_counts().index # Get the class names\n",
        "counts = train.label.value_counts() # Get the number of rows by class\n",
        "\n",
        "print(f\"Classes: {labels}\")\n",
        "print(f\"Number of images per label: {counts}\")"
      ],
      "metadata": {
        "colab": {
          "base_uri": "https://localhost:8080/"
        },
        "id": "TMcqVzAEx3v0",
        "outputId": "983ac39d-f95c-4d8f-f18a-2f085978f218"
      },
      "execution_count": null,
      "outputs": [
        {
          "output_type": "stream",
          "name": "stdout",
          "text": [
            "Classes: Int64Index([1, 2, 7, 9, 3, 0, 8, 4, 6, 5], dtype='int64')\n",
            "Number of images per label: 1    921\n",
            "2    826\n",
            "7    812\n",
            "9    806\n",
            "3    803\n",
            "0    791\n",
            "8    783\n",
            "4    782\n",
            "6    767\n",
            "5    709\n",
            "Name: label, dtype: int64\n"
          ]
        }
      ]
    },
    {
      "cell_type": "code",
      "source": [],
      "metadata": {
        "colab": {
          "base_uri": "https://localhost:8080/",
          "height": 250
        },
        "id": "Qt_4-Li5x4Am",
        "outputId": "d6b8c1e3-c940-448c-d7a7-488e98b2443f"
      },
      "execution_count": null,
      "outputs": [
        {
          "output_type": "error",
          "ename": "NameError",
          "evalue": "name 'plt' is not defined",
          "traceback": [
            "\u001b[0;31m---------------------------------------------------------------------------\u001b[0m",
            "\u001b[0;31mNameError\u001b[0m                                 Traceback (most recent call last)",
            "\u001b[0;32m<ipython-input-10-1d9d3a134a25>\u001b[0m in \u001b[0;36m<cell line: 1>\u001b[0;34m()\u001b[0m\n\u001b[0;32m----> 1\u001b[0;31m \u001b[0mplt\u001b[0m\u001b[0;34m.\u001b[0m\u001b[0mfigure\u001b[0m\u001b[0;34m(\u001b[0m\u001b[0mfigsize\u001b[0m\u001b[0;34m=\u001b[0m\u001b[0;34m(\u001b[0m\u001b[0;36m10\u001b[0m\u001b[0;34m,\u001b[0m \u001b[0;36m5\u001b[0m\u001b[0;34m)\u001b[0m\u001b[0;34m)\u001b[0m\u001b[0;34m\u001b[0m\u001b[0;34m\u001b[0m\u001b[0m\n\u001b[0m\u001b[1;32m      2\u001b[0m \u001b[0mplt\u001b[0m\u001b[0;34m.\u001b[0m\u001b[0mbar\u001b[0m\u001b[0;34m(\u001b[0m\u001b[0mlabels\u001b[0m\u001b[0;34m,\u001b[0m \u001b[0mcounts\u001b[0m\u001b[0;34m)\u001b[0m\u001b[0;34m\u001b[0m\u001b[0;34m\u001b[0m\u001b[0m\n\u001b[1;32m      3\u001b[0m \u001b[0mplt\u001b[0m\u001b[0;34m.\u001b[0m\u001b[0mxticks\u001b[0m\u001b[0;34m(\u001b[0m\u001b[0mnp\u001b[0m\u001b[0;34m.\u001b[0m\u001b[0marange\u001b[0m\u001b[0;34m(\u001b[0m\u001b[0mlen\u001b[0m\u001b[0;34m(\u001b[0m\u001b[0mlabels\u001b[0m\u001b[0;34m)\u001b[0m\u001b[0;34m)\u001b[0m\u001b[0;34m,\u001b[0m \u001b[0mlabels\u001b[0m\u001b[0;34m)\u001b[0m\u001b[0;34m\u001b[0m\u001b[0;34m\u001b[0m\u001b[0m\n\u001b[1;32m      4\u001b[0m \u001b[0mplt\u001b[0m\u001b[0;34m.\u001b[0m\u001b[0mxlabel\u001b[0m\u001b[0;34m(\u001b[0m\u001b[0;34m'Class'\u001b[0m\u001b[0;34m,\u001b[0m \u001b[0mfontsize\u001b[0m\u001b[0;34m=\u001b[0m\u001b[0;36m14\u001b[0m\u001b[0;34m)\u001b[0m \u001b[0;31m# Add text to the X-axis\u001b[0m\u001b[0;34m\u001b[0m\u001b[0;34m\u001b[0m\u001b[0m\n\u001b[1;32m      5\u001b[0m \u001b[0mplt\u001b[0m\u001b[0;34m.\u001b[0m\u001b[0mylabel\u001b[0m\u001b[0;34m(\u001b[0m\u001b[0;34m'Count'\u001b[0m\u001b[0;34m,\u001b[0m \u001b[0mfontsize\u001b[0m\u001b[0;34m=\u001b[0m\u001b[0;36m14\u001b[0m\u001b[0;34m)\u001b[0m \u001b[0;31m# Add text to the Y axis\u001b[0m\u001b[0;34m\u001b[0m\u001b[0;34m\u001b[0m\u001b[0m\n",
            "\u001b[0;31mNameError\u001b[0m: name 'plt' is not defined"
          ]
        }
      ]
    },
    {
      "cell_type": "code",
      "source": [
        "X = train.drop('label' , axis = 1)\n",
        "Y = test"
      ],
      "metadata": {
        "id": "VtHPCp4Ix7EE"
      },
      "execution_count": null,
      "outputs": []
    },
    {
      "cell_type": "code",
      "source": [
        "X = np.array(X)\n",
        "Y = np.array(Y)"
      ],
      "metadata": {
        "id": "5Ts93izjyMjI"
      },
      "execution_count": null,
      "outputs": []
    },
    {
      "cell_type": "code",
      "source": [
        "#now we set datatype to float\n",
        "X = X.astype('float32')\n",
        "X.shape\n",
        "Y = Y.astype('float32')\n",
        "Y.shape"
      ],
      "metadata": {
        "colab": {
          "base_uri": "https://localhost:8080/"
        },
        "id": "StSVoraKyXWb",
        "outputId": "b76b5c70-0dd0-4a21-bce9-995bab828a79"
      },
      "execution_count": null,
      "outputs": [
        {
          "output_type": "execute_result",
          "data": {
            "text/plain": [
              "(2000, 785)"
            ]
          },
          "metadata": {},
          "execution_count": 18
        }
      ]
    },
    {
      "cell_type": "code",
      "source": [
        "X.shape\n"
      ],
      "metadata": {
        "colab": {
          "base_uri": "https://localhost:8080/"
        },
        "id": "vdHeBbJjyedb",
        "outputId": "e0bd9dee-fb92-4561-bfa5-d4bb9bd390da"
      },
      "execution_count": null,
      "outputs": [
        {
          "output_type": "execute_result",
          "data": {
            "text/plain": [
              "(8000, 785)"
            ]
          },
          "metadata": {},
          "execution_count": 19
        }
      ]
    },
    {
      "cell_type": "code",
      "source": [
        "#Normalize\n",
        "X = X/ 255.0\n",
        "Y = Y/ 255.0"
      ],
      "metadata": {
        "id": "fKySxEXvygRm"
      },
      "execution_count": null,
      "outputs": []
    },
    {
      "cell_type": "code",
      "source": [
        "X.shape"
      ],
      "metadata": {
        "colab": {
          "base_uri": "https://localhost:8080/"
        },
        "id": "ABGaRFaZyivo",
        "outputId": "b13da97c-e6fc-4b85-8cd0-93199c7e262d"
      },
      "execution_count": null,
      "outputs": [
        {
          "output_type": "execute_result",
          "data": {
            "text/plain": [
              "(8000, 785)"
            ]
          },
          "metadata": {},
          "execution_count": 21
        }
      ]
    },
    {
      "cell_type": "code",
      "source": [
        "Y.shape"
      ],
      "metadata": {
        "colab": {
          "base_uri": "https://localhost:8080/"
        },
        "id": "wagw_wZBypu_",
        "outputId": "08e239f0-c25c-416c-ccf3-8f83ff47245f"
      },
      "execution_count": null,
      "outputs": [
        {
          "output_type": "execute_result",
          "data": {
            "text/plain": [
              "(2000, 785)"
            ]
          },
          "metadata": {},
          "execution_count": 22
        }
      ]
    },
    {
      "cell_type": "code",
      "source": [
        "y = train.label"
      ],
      "metadata": {
        "id": "sU5rfNHLyq14"
      },
      "execution_count": null,
      "outputs": []
    },
    {
      "cell_type": "code",
      "source": [
        "from sklearn.model_selection import train_test_split\n",
        "\n",
        "X_train , X_val , y_train , y_val = train_test_split(X, y, test_size=0.20, random_state=16)"
      ],
      "metadata": {
        "id": "C7skOOely7-H"
      },
      "execution_count": null,
      "outputs": []
    },
    {
      "cell_type": "code",
      "source": [
        "X_train_t = torch.from_numpy(X_train).float()"
      ],
      "metadata": {
        "id": "pfRQIi7DzfRN"
      },
      "execution_count": null,
      "outputs": []
    },
    {
      "cell_type": "code",
      "source": [
        "y_train_t =  torch.from_numpy(y_train.values)"
      ],
      "metadata": {
        "id": "z432VSt8zqXZ"
      },
      "execution_count": null,
      "outputs": []
    },
    {
      "cell_type": "code",
      "source": [
        "train_tensor = TensorDataset(X_train_t, y_train_t)\n"
      ],
      "metadata": {
        "id": "6xs6pK3Hzz4k"
      },
      "execution_count": null,
      "outputs": []
    },
    {
      "cell_type": "code",
      "source": [
        "X_val_t =  torch.from_numpy(X_val).float()\n",
        "y_val_t =  torch.from_numpy(y_val.values)\n",
        "val_tensor = TensorDataset(X_val_t, y_val_t)\n",
        "\n",
        "X_test_t = torch.from_numpy(Y).float()"
      ],
      "metadata": {
        "id": "OCB8EaYhz2Jk"
      },
      "execution_count": null,
      "outputs": []
    },
    {
      "cell_type": "code",
      "source": [
        "batch_size = 16"
      ],
      "metadata": {
        "id": "I1s1v8Fuz3NG"
      },
      "execution_count": null,
      "outputs": []
    },
    {
      "cell_type": "code",
      "source": [
        "# Load image into data generator\n",
        "train_loader = DataLoader(train_tensor, batch_size=batch_size, num_workers=2, shuffle=True)\n",
        "val_loader = DataLoader(val_tensor, batch_size=batch_size, num_workers=2, shuffle=True)\n",
        "test_loader = DataLoader(X_test_t, batch_size=batch_size, num_workers=2, shuffle=False)\n",
        "\n",
        "loaders = {\"train\": train_loader, \"valid\": val_loader}"
      ],
      "metadata": {
        "id": "LpUqZJ4ez4Ey"
      },
      "execution_count": null,
      "outputs": []
    },
    {
      "cell_type": "code",
      "source": [
        "X_train_t.size()"
      ],
      "metadata": {
        "colab": {
          "base_uri": "https://localhost:8080/"
        },
        "id": "vh0s38-gz5i-",
        "outputId": "5ef09c2b-7da6-448b-ec25-7d012716cecb"
      },
      "execution_count": null,
      "outputs": [
        {
          "output_type": "execute_result",
          "data": {
            "text/plain": [
              "torch.Size([6400, 785])"
            ]
          },
          "metadata": {},
          "execution_count": 34
        }
      ]
    },
    {
      "cell_type": "code",
      "source": [
        "import torch.nn as nn\n",
        "\n",
        "class NeuralNetwork(nn.Module):\n",
        "    def __init__(self):\n",
        "        super().__init__()\n",
        "        self.flatten = nn.Flatten()\n",
        "        self.linear_relu_stack = nn.Sequential(\n",
        "            nn.Linear(785, 512),  # Adjusted input size to match the number of features\n",
        "            nn.ReLU(),\n",
        "            nn.Linear(512, 512),\n",
        "            nn.ReLU(),\n",
        "            nn.Linear(512, 10)  # Output layer with 10 classes\n",
        "        )\n",
        "\n",
        "    def forward(self, x):\n",
        "        x = self.flatten(x)\n",
        "        output = self.linear_relu_stack(x)\n",
        "        return output"
      ],
      "metadata": {
        "id": "t0I-qpg_z7Du"
      },
      "execution_count": null,
      "outputs": []
    },
    {
      "cell_type": "code",
      "source": [
        "#Let’s check to see if torch.cuda or torch.backends.mps are available, otherwise we use the CPU.\n",
        "device = (\n",
        "    \"cuda\"\n",
        "    if torch.cuda.is_available()\n",
        "    else \"mps\"\n",
        "    if torch.backends.mps.is_available()\n",
        "    else \"cpu\"\n",
        ")\n",
        "print(f\"Using {device} device\")"
      ],
      "metadata": {
        "colab": {
          "base_uri": "https://localhost:8080/"
        },
        "id": "lK_K4Q9f0LFB",
        "outputId": "8b0ed608-7bb5-415d-821c-800db7579e07"
      },
      "execution_count": null,
      "outputs": [
        {
          "output_type": "stream",
          "name": "stdout",
          "text": [
            "Using cpu device\n"
          ]
        }
      ]
    },
    {
      "cell_type": "code",
      "source": [
        "model = NeuralNetwork().to(device)\n"
      ],
      "metadata": {
        "id": "B0U-31l10NBL"
      },
      "execution_count": null,
      "outputs": []
    },
    {
      "cell_type": "code",
      "source": [
        "learning_rate = 1e-3\n",
        "batch_size = 64\n"
      ],
      "metadata": {
        "id": "EMJYcQ0-0Ohw"
      },
      "execution_count": null,
      "outputs": []
    },
    {
      "cell_type": "code",
      "source": [
        "import torch.optim as optim\n",
        "\n",
        "# Assuming you have already defined your model (e.g., model = ModifiedNeuralNetwork())\n",
        "\n",
        "loss_fn = nn.CrossEntropyLoss()\n",
        "optimizer = optim.Adam(model.parameters(), lr=learning_rate)"
      ],
      "metadata": {
        "id": "ZdCK0ZLz0THB"
      },
      "execution_count": null,
      "outputs": []
    },
    {
      "cell_type": "code",
      "source": [
        "\n",
        "def train_loop(data_loader, model, loss_fn, optimizer):\n",
        "    size = len(data_loader.dataset)\n",
        "\n",
        "    # set the model to training mode\n",
        "    model.train()\n",
        "\n",
        "    for batch, (X, y) in enumerate(data_loader):\n",
        "        # compute prediction and loss\n",
        "        pred = model(X)\n",
        "        loss = loss_fn(pred, y)\n",
        "\n",
        "        # backpropagation\n",
        "        loss.backward()\n",
        "        optimizer.step()\n",
        "        optimizer.zero_grad()\n",
        "\n",
        "        if batch% 100 == 0:\n",
        "            loss, current  = loss, (batch + 1)*len(X)\n",
        "            print(f\"loss: {loss:>7f}  [{current:>5d}/{size:>5d}]\")"
      ],
      "metadata": {
        "id": "p75xGl7n0U03"
      },
      "execution_count": null,
      "outputs": []
    },
    {
      "cell_type": "code",
      "source": [
        "\n",
        "def test_loop(data_loader, model, loss_fn):\n",
        "    # set the model to evaluation mode\n",
        "    model.eval()\n",
        "\n",
        "    size = len(data_loader.dataset)\n",
        "    num_batches = len(data_loader)\n",
        "    test_loss, correct = 0, 0\n",
        "\n",
        "    with torch.no_grad():\n",
        "        for X, y in data_loader:\n",
        "            pred = model(X)\n",
        "            test_loss += loss_fn(pred, y)\n",
        "            correct += (pred.argmax(1) == y).type(torch.float).sum().item()\n",
        "    test_loss /= num_batches\n",
        "    correct /= size\n",
        "    print(f\"Test Error: \\n Accuracy: {(100*correct):>0.1f}%, Avg loss: {test_loss:>8f} \\n\")\n"
      ],
      "metadata": {
        "id": "ao0_nfhI0V11"
      },
      "execution_count": null,
      "outputs": []
    },
    {
      "cell_type": "code",
      "source": [
        "\n",
        "epochs = 30\n",
        "for t in range(epochs):\n",
        "    print(f\"Epoch {t+1}\\n-------------------------------\")\n",
        "    train_loop(train_loader, model, loss_fn, optimizer)\n",
        "    test_loop(val_loader, model, loss_fn)\n",
        "print(\"Done!\")"
      ],
      "metadata": {
        "colab": {
          "base_uri": "https://localhost:8080/"
        },
        "id": "DBUgrPV60XI1",
        "outputId": "7c4ac46f-e12c-4dba-c2b7-2b082680cc50"
      },
      "execution_count": null,
      "outputs": [
        {
          "output_type": "stream",
          "name": "stdout",
          "text": [
            "Epoch 1\n",
            "-------------------------------\n",
            "loss: 1.283067  [   16/ 6400]\n",
            "loss: 0.409988  [ 1616/ 6400]\n",
            "loss: 0.241140  [ 3216/ 6400]\n",
            "loss: 0.316146  [ 4816/ 6400]\n",
            "Test Error: \n",
            " Accuracy: 91.4%, Avg loss: 0.302781 \n",
            "\n",
            "Epoch 2\n",
            "-------------------------------\n",
            "loss: 0.441452  [   16/ 6400]\n",
            "loss: 0.206573  [ 1616/ 6400]\n",
            "loss: 0.256831  [ 3216/ 6400]\n",
            "loss: 0.149029  [ 4816/ 6400]\n",
            "Test Error: \n",
            " Accuracy: 93.4%, Avg loss: 0.224426 \n",
            "\n",
            "Epoch 3\n",
            "-------------------------------\n",
            "loss: 0.280874  [   16/ 6400]\n",
            "loss: 0.213602  [ 1616/ 6400]\n",
            "loss: 0.195640  [ 3216/ 6400]\n",
            "loss: 0.026735  [ 4816/ 6400]\n",
            "Test Error: \n",
            " Accuracy: 93.8%, Avg loss: 0.221011 \n",
            "\n",
            "Epoch 4\n",
            "-------------------------------\n",
            "loss: 0.001465  [   16/ 6400]\n",
            "loss: 0.078437  [ 1616/ 6400]\n",
            "loss: 0.204755  [ 3216/ 6400]\n",
            "loss: 0.018744  [ 4816/ 6400]\n",
            "Test Error: \n",
            " Accuracy: 93.3%, Avg loss: 0.246159 \n",
            "\n",
            "Epoch 5\n",
            "-------------------------------\n",
            "loss: 0.252514  [   16/ 6400]\n",
            "loss: 0.116291  [ 1616/ 6400]\n",
            "loss: 0.001858  [ 3216/ 6400]\n",
            "loss: 0.000195  [ 4816/ 6400]\n",
            "Test Error: \n",
            " Accuracy: 93.9%, Avg loss: 0.231664 \n",
            "\n",
            "Epoch 6\n",
            "-------------------------------\n",
            "loss: 0.091707  [   16/ 6400]\n",
            "loss: 0.008320  [ 1616/ 6400]\n",
            "loss: 0.001195  [ 3216/ 6400]\n",
            "loss: 0.037299  [ 4816/ 6400]\n",
            "Test Error: \n",
            " Accuracy: 95.5%, Avg loss: 0.170055 \n",
            "\n",
            "Epoch 7\n",
            "-------------------------------\n",
            "loss: 0.037608  [   16/ 6400]\n",
            "loss: 0.068938  [ 1616/ 6400]\n",
            "loss: 0.203233  [ 3216/ 6400]\n",
            "loss: 0.003872  [ 4816/ 6400]\n",
            "Test Error: \n",
            " Accuracy: 94.7%, Avg loss: 0.221307 \n",
            "\n",
            "Epoch 8\n",
            "-------------------------------\n",
            "loss: 0.000348  [   16/ 6400]\n",
            "loss: 0.006868  [ 1616/ 6400]\n",
            "loss: 0.001678  [ 3216/ 6400]\n",
            "loss: 0.003711  [ 4816/ 6400]\n",
            "Test Error: \n",
            " Accuracy: 94.1%, Avg loss: 0.248056 \n",
            "\n",
            "Epoch 9\n",
            "-------------------------------\n",
            "loss: 0.031770  [   16/ 6400]\n",
            "loss: 0.002567  [ 1616/ 6400]\n",
            "loss: 0.010810  [ 3216/ 6400]\n",
            "loss: 0.033858  [ 4816/ 6400]\n",
            "Test Error: \n",
            " Accuracy: 95.1%, Avg loss: 0.221620 \n",
            "\n",
            "Epoch 10\n",
            "-------------------------------\n",
            "loss: 0.000526  [   16/ 6400]\n",
            "loss: 0.036079  [ 1616/ 6400]\n",
            "loss: 0.005540  [ 3216/ 6400]\n",
            "loss: 0.000849  [ 4816/ 6400]\n",
            "Test Error: \n",
            " Accuracy: 95.8%, Avg loss: 0.246444 \n",
            "\n",
            "Epoch 11\n",
            "-------------------------------\n",
            "loss: 0.004134  [   16/ 6400]\n",
            "loss: 0.000067  [ 1616/ 6400]\n",
            "loss: 0.000206  [ 3216/ 6400]\n",
            "loss: 0.001352  [ 4816/ 6400]\n",
            "Test Error: \n",
            " Accuracy: 94.1%, Avg loss: 0.272746 \n",
            "\n",
            "Epoch 12\n",
            "-------------------------------\n",
            "loss: 0.752213  [   16/ 6400]\n",
            "loss: 0.001122  [ 1616/ 6400]\n",
            "loss: 0.000038  [ 3216/ 6400]\n",
            "loss: 0.035932  [ 4816/ 6400]\n",
            "Test Error: \n",
            " Accuracy: 95.2%, Avg loss: 0.243040 \n",
            "\n",
            "Epoch 13\n",
            "-------------------------------\n",
            "loss: 0.000037  [   16/ 6400]\n",
            "loss: 0.000004  [ 1616/ 6400]\n",
            "loss: 0.001312  [ 3216/ 6400]\n",
            "loss: 0.000021  [ 4816/ 6400]\n",
            "Test Error: \n",
            " Accuracy: 95.4%, Avg loss: 0.232423 \n",
            "\n",
            "Epoch 14\n",
            "-------------------------------\n",
            "loss: 0.000265  [   16/ 6400]\n",
            "loss: 0.000264  [ 1616/ 6400]\n",
            "loss: 0.003321  [ 3216/ 6400]\n",
            "loss: 0.000004  [ 4816/ 6400]\n",
            "Test Error: \n",
            " Accuracy: 95.3%, Avg loss: 0.246835 \n",
            "\n",
            "Epoch 15\n",
            "-------------------------------\n",
            "loss: 0.000004  [   16/ 6400]\n",
            "loss: 0.000021  [ 1616/ 6400]\n",
            "loss: 0.000007  [ 3216/ 6400]\n",
            "loss: 0.000071  [ 4816/ 6400]\n",
            "Test Error: \n",
            " Accuracy: 94.2%, Avg loss: 0.307105 \n",
            "\n",
            "Epoch 16\n",
            "-------------------------------\n",
            "loss: 0.000008  [   16/ 6400]\n",
            "loss: 0.001456  [ 1616/ 6400]\n",
            "loss: 0.000628  [ 3216/ 6400]\n",
            "loss: 0.003847  [ 4816/ 6400]\n",
            "Test Error: \n",
            " Accuracy: 95.6%, Avg loss: 0.224061 \n",
            "\n",
            "Epoch 17\n",
            "-------------------------------\n",
            "loss: 0.001007  [   16/ 6400]\n",
            "loss: 0.068974  [ 1616/ 6400]\n",
            "loss: 0.000591  [ 3216/ 6400]\n",
            "loss: 0.000509  [ 4816/ 6400]\n",
            "Test Error: \n",
            " Accuracy: 96.2%, Avg loss: 0.203353 \n",
            "\n",
            "Epoch 18\n",
            "-------------------------------\n",
            "loss: 0.004629  [   16/ 6400]\n",
            "loss: 0.003965  [ 1616/ 6400]\n",
            "loss: 0.004148  [ 3216/ 6400]\n",
            "loss: 0.000544  [ 4816/ 6400]\n",
            "Test Error: \n",
            " Accuracy: 96.4%, Avg loss: 0.208267 \n",
            "\n",
            "Epoch 19\n",
            "-------------------------------\n",
            "loss: 0.000201  [   16/ 6400]\n",
            "loss: 0.001761  [ 1616/ 6400]\n",
            "loss: 0.000243  [ 3216/ 6400]\n",
            "loss: 0.000010  [ 4816/ 6400]\n",
            "Test Error: \n",
            " Accuracy: 95.6%, Avg loss: 0.293371 \n",
            "\n",
            "Epoch 20\n",
            "-------------------------------\n",
            "loss: 0.000039  [   16/ 6400]\n",
            "loss: 0.000005  [ 1616/ 6400]\n",
            "loss: 0.000645  [ 3216/ 6400]\n",
            "loss: 0.013322  [ 4816/ 6400]\n",
            "Test Error: \n",
            " Accuracy: 93.3%, Avg loss: 0.421983 \n",
            "\n",
            "Epoch 21\n",
            "-------------------------------\n",
            "loss: 0.408580  [   16/ 6400]\n",
            "loss: 0.257269  [ 1616/ 6400]\n",
            "loss: 0.000001  [ 3216/ 6400]\n",
            "loss: 0.000015  [ 4816/ 6400]\n",
            "Test Error: \n",
            " Accuracy: 95.9%, Avg loss: 0.255708 \n",
            "\n",
            "Epoch 22\n",
            "-------------------------------\n",
            "loss: 0.000036  [   16/ 6400]\n",
            "loss: 0.000034  [ 1616/ 6400]\n",
            "loss: 0.000262  [ 3216/ 6400]\n",
            "loss: 0.000018  [ 4816/ 6400]\n",
            "Test Error: \n",
            " Accuracy: 95.9%, Avg loss: 0.262082 \n",
            "\n",
            "Epoch 23\n",
            "-------------------------------\n",
            "loss: 0.000008  [   16/ 6400]\n",
            "loss: 0.000001  [ 1616/ 6400]\n",
            "loss: 0.000039  [ 3216/ 6400]\n",
            "loss: 0.000001  [ 4816/ 6400]\n",
            "Test Error: \n",
            " Accuracy: 94.9%, Avg loss: 0.300314 \n",
            "\n",
            "Epoch 24\n",
            "-------------------------------\n",
            "loss: 0.000168  [   16/ 6400]\n",
            "loss: 0.008046  [ 1616/ 6400]\n",
            "loss: 0.000000  [ 3216/ 6400]\n",
            "loss: 0.000008  [ 4816/ 6400]\n",
            "Test Error: \n",
            " Accuracy: 94.4%, Avg loss: 0.339304 \n",
            "\n",
            "Epoch 25\n",
            "-------------------------------\n",
            "loss: 0.050199  [   16/ 6400]\n",
            "loss: 0.000623  [ 1616/ 6400]\n",
            "loss: 0.000038  [ 3216/ 6400]\n",
            "loss: 0.000663  [ 4816/ 6400]\n",
            "Test Error: \n",
            " Accuracy: 95.6%, Avg loss: 0.254522 \n",
            "\n",
            "Epoch 26\n",
            "-------------------------------\n",
            "loss: 0.000002  [   16/ 6400]\n",
            "loss: 0.000027  [ 1616/ 6400]\n",
            "loss: 0.001027  [ 3216/ 6400]\n",
            "loss: 0.019480  [ 4816/ 6400]\n",
            "Test Error: \n",
            " Accuracy: 94.9%, Avg loss: 0.302391 \n",
            "\n",
            "Epoch 27\n",
            "-------------------------------\n",
            "loss: 0.124399  [   16/ 6400]\n",
            "loss: 0.031115  [ 1616/ 6400]\n",
            "loss: 0.019937  [ 3216/ 6400]\n",
            "loss: 0.003954  [ 4816/ 6400]\n",
            "Test Error: \n",
            " Accuracy: 95.4%, Avg loss: 0.290575 \n",
            "\n",
            "Epoch 28\n",
            "-------------------------------\n",
            "loss: 0.000007  [   16/ 6400]\n",
            "loss: 0.000393  [ 1616/ 6400]\n",
            "loss: 0.000000  [ 3216/ 6400]\n",
            "loss: 0.000001  [ 4816/ 6400]\n",
            "Test Error: \n",
            " Accuracy: 94.9%, Avg loss: 0.366147 \n",
            "\n",
            "Epoch 29\n",
            "-------------------------------\n",
            "loss: 0.004486  [   16/ 6400]\n",
            "loss: 0.001191  [ 1616/ 6400]\n",
            "loss: 0.000000  [ 3216/ 6400]\n",
            "loss: 0.000219  [ 4816/ 6400]\n",
            "Test Error: \n",
            " Accuracy: 96.1%, Avg loss: 0.264299 \n",
            "\n",
            "Epoch 30\n",
            "-------------------------------\n",
            "loss: 0.000092  [   16/ 6400]\n",
            "loss: 0.000005  [ 1616/ 6400]\n",
            "loss: 0.000132  [ 3216/ 6400]\n",
            "loss: 0.000007  [ 4816/ 6400]\n",
            "Test Error: \n",
            " Accuracy: 95.9%, Avg loss: 0.292027 \n",
            "\n",
            "Done!\n"
          ]
        }
      ]
    },
    {
      "cell_type": "code",
      "source": [
        "# Prediction\n",
        "logits = model(X_test_t)\n",
        "pred_probab = nn.Softmax(dim=1)(logits)\n",
        "y_pred = pred_probab.argmax(1)\n",
        "print(f\"Predicted class: {y_pred}\")"
      ],
      "metadata": {
        "colab": {
          "base_uri": "https://localhost:8080/"
        },
        "id": "s56RegQ_0X_i",
        "outputId": "f1e6f7b9-8b78-450b-fac0-873ab9bb03b2"
      },
      "execution_count": null,
      "outputs": [
        {
          "output_type": "stream",
          "name": "stdout",
          "text": [
            "Predicted class: tensor([1, 5, 6,  ..., 7, 4, 2])\n"
          ]
        }
      ]
    },
    {
      "cell_type": "markdown",
      "source": [],
      "metadata": {
        "id": "WaluWGCd30OL"
      }
    },
    {
      "cell_type": "code",
      "source": [
        "\n",
        "results = pd.Series(y_pred,name=\"label\")\n",
        "\n",
        "submission = pd.concat([pd.Series(range(1,28001),name = \"id\"),results],axis = 1)\n",
        "\n",
        "submission.to_csv(\"submission.csv\",index=False)"
      ],
      "metadata": {
        "id": "FvW5JMUb3b6S"
      },
      "execution_count": null,
      "outputs": []
    },
    {
      "cell_type": "code",
      "source": [
        "submission = pd.read_csv(\"submission.csv\")\n",
        "\n",
        "# Display the first few rows of the DataFrame\n",
        "print(submission.head())"
      ],
      "metadata": {
        "id": "BC_DcB2X3fBt",
        "colab": {
          "base_uri": "https://localhost:8080/"
        },
        "outputId": "087af6ab-c533-4a7c-8b16-bc21bae6ff74"
      },
      "execution_count": null,
      "outputs": [
        {
          "output_type": "stream",
          "name": "stdout",
          "text": [
            "   id  label\n",
            "0   1    1.0\n",
            "1   2    5.0\n",
            "2   3    6.0\n",
            "3   4    2.0\n",
            "4   5    4.0\n"
          ]
        }
      ]
    },
    {
      "cell_type": "code",
      "source": [
        "submission = pd.read_csv(\"submission.csv\")\n",
        "\n",
        "# Select the first 2000 rows\n",
        "subset_submission = submission.head(2000)\n",
        "\n",
        "# Save the subset to a new CSV file\n",
        "subset_submission.to_csv(\"subset_submission.csv\", index=False)"
      ],
      "metadata": {
        "id": "Mp-s_rPT4qkH"
      },
      "execution_count": null,
      "outputs": []
    },
    {
      "cell_type": "code",
      "source": [
        "daku = pd.read_csv(\"subset_submission.csv\")"
      ],
      "metadata": {
        "id": "LHCyM1JU4tdx"
      },
      "execution_count": 62,
      "outputs": []
    },
    {
      "cell_type": "code",
      "source": [
        "daku.head()"
      ],
      "metadata": {
        "colab": {
          "base_uri": "https://localhost:8080/",
          "height": 206
        },
        "id": "BfHkkmFQ5TXL",
        "outputId": "561aee2a-ad03-48b9-9987-1dcab811263b"
      },
      "execution_count": 63,
      "outputs": [
        {
          "output_type": "execute_result",
          "data": {
            "text/plain": [
              "   id  label\n",
              "0   1    1.0\n",
              "1   2    5.0\n",
              "2   3    6.0\n",
              "3   4    2.0\n",
              "4   5    4.0"
            ],
            "text/html": [
              "\n",
              "  <div id=\"df-85db38c9-39e1-431c-b2da-01fc4b2b0f63\" class=\"colab-df-container\">\n",
              "    <div>\n",
              "<style scoped>\n",
              "    .dataframe tbody tr th:only-of-type {\n",
              "        vertical-align: middle;\n",
              "    }\n",
              "\n",
              "    .dataframe tbody tr th {\n",
              "        vertical-align: top;\n",
              "    }\n",
              "\n",
              "    .dataframe thead th {\n",
              "        text-align: right;\n",
              "    }\n",
              "</style>\n",
              "<table border=\"1\" class=\"dataframe\">\n",
              "  <thead>\n",
              "    <tr style=\"text-align: right;\">\n",
              "      <th></th>\n",
              "      <th>id</th>\n",
              "      <th>label</th>\n",
              "    </tr>\n",
              "  </thead>\n",
              "  <tbody>\n",
              "    <tr>\n",
              "      <th>0</th>\n",
              "      <td>1</td>\n",
              "      <td>1.0</td>\n",
              "    </tr>\n",
              "    <tr>\n",
              "      <th>1</th>\n",
              "      <td>2</td>\n",
              "      <td>5.0</td>\n",
              "    </tr>\n",
              "    <tr>\n",
              "      <th>2</th>\n",
              "      <td>3</td>\n",
              "      <td>6.0</td>\n",
              "    </tr>\n",
              "    <tr>\n",
              "      <th>3</th>\n",
              "      <td>4</td>\n",
              "      <td>2.0</td>\n",
              "    </tr>\n",
              "    <tr>\n",
              "      <th>4</th>\n",
              "      <td>5</td>\n",
              "      <td>4.0</td>\n",
              "    </tr>\n",
              "  </tbody>\n",
              "</table>\n",
              "</div>\n",
              "    <div class=\"colab-df-buttons\">\n",
              "\n",
              "  <div class=\"colab-df-container\">\n",
              "    <button class=\"colab-df-convert\" onclick=\"convertToInteractive('df-85db38c9-39e1-431c-b2da-01fc4b2b0f63')\"\n",
              "            title=\"Convert this dataframe to an interactive table.\"\n",
              "            style=\"display:none;\">\n",
              "\n",
              "  <svg xmlns=\"http://www.w3.org/2000/svg\" height=\"24px\" viewBox=\"0 -960 960 960\">\n",
              "    <path d=\"M120-120v-720h720v720H120Zm60-500h600v-160H180v160Zm220 220h160v-160H400v160Zm0 220h160v-160H400v160ZM180-400h160v-160H180v160Zm440 0h160v-160H620v160ZM180-180h160v-160H180v160Zm440 0h160v-160H620v160Z\"/>\n",
              "  </svg>\n",
              "    </button>\n",
              "\n",
              "  <style>\n",
              "    .colab-df-container {\n",
              "      display:flex;\n",
              "      gap: 12px;\n",
              "    }\n",
              "\n",
              "    .colab-df-convert {\n",
              "      background-color: #E8F0FE;\n",
              "      border: none;\n",
              "      border-radius: 50%;\n",
              "      cursor: pointer;\n",
              "      display: none;\n",
              "      fill: #1967D2;\n",
              "      height: 32px;\n",
              "      padding: 0 0 0 0;\n",
              "      width: 32px;\n",
              "    }\n",
              "\n",
              "    .colab-df-convert:hover {\n",
              "      background-color: #E2EBFA;\n",
              "      box-shadow: 0px 1px 2px rgba(60, 64, 67, 0.3), 0px 1px 3px 1px rgba(60, 64, 67, 0.15);\n",
              "      fill: #174EA6;\n",
              "    }\n",
              "\n",
              "    .colab-df-buttons div {\n",
              "      margin-bottom: 4px;\n",
              "    }\n",
              "\n",
              "    [theme=dark] .colab-df-convert {\n",
              "      background-color: #3B4455;\n",
              "      fill: #D2E3FC;\n",
              "    }\n",
              "\n",
              "    [theme=dark] .colab-df-convert:hover {\n",
              "      background-color: #434B5C;\n",
              "      box-shadow: 0px 1px 3px 1px rgba(0, 0, 0, 0.15);\n",
              "      filter: drop-shadow(0px 1px 2px rgba(0, 0, 0, 0.3));\n",
              "      fill: #FFFFFF;\n",
              "    }\n",
              "  </style>\n",
              "\n",
              "    <script>\n",
              "      const buttonEl =\n",
              "        document.querySelector('#df-85db38c9-39e1-431c-b2da-01fc4b2b0f63 button.colab-df-convert');\n",
              "      buttonEl.style.display =\n",
              "        google.colab.kernel.accessAllowed ? 'block' : 'none';\n",
              "\n",
              "      async function convertToInteractive(key) {\n",
              "        const element = document.querySelector('#df-85db38c9-39e1-431c-b2da-01fc4b2b0f63');\n",
              "        const dataTable =\n",
              "          await google.colab.kernel.invokeFunction('convertToInteractive',\n",
              "                                                    [key], {});\n",
              "        if (!dataTable) return;\n",
              "\n",
              "        const docLinkHtml = 'Like what you see? Visit the ' +\n",
              "          '<a target=\"_blank\" href=https://colab.research.google.com/notebooks/data_table.ipynb>data table notebook</a>'\n",
              "          + ' to learn more about interactive tables.';\n",
              "        element.innerHTML = '';\n",
              "        dataTable['output_type'] = 'display_data';\n",
              "        await google.colab.output.renderOutput(dataTable, element);\n",
              "        const docLink = document.createElement('div');\n",
              "        docLink.innerHTML = docLinkHtml;\n",
              "        element.appendChild(docLink);\n",
              "      }\n",
              "    </script>\n",
              "  </div>\n",
              "\n",
              "\n",
              "<div id=\"df-afa31231-affd-454e-85d3-77abec956f1e\">\n",
              "  <button class=\"colab-df-quickchart\" onclick=\"quickchart('df-afa31231-affd-454e-85d3-77abec956f1e')\"\n",
              "            title=\"Suggest charts\"\n",
              "            style=\"display:none;\">\n",
              "\n",
              "<svg xmlns=\"http://www.w3.org/2000/svg\" height=\"24px\"viewBox=\"0 0 24 24\"\n",
              "     width=\"24px\">\n",
              "    <g>\n",
              "        <path d=\"M19 3H5c-1.1 0-2 .9-2 2v14c0 1.1.9 2 2 2h14c1.1 0 2-.9 2-2V5c0-1.1-.9-2-2-2zM9 17H7v-7h2v7zm4 0h-2V7h2v10zm4 0h-2v-4h2v4z\"/>\n",
              "    </g>\n",
              "</svg>\n",
              "  </button>\n",
              "\n",
              "<style>\n",
              "  .colab-df-quickchart {\n",
              "      --bg-color: #E8F0FE;\n",
              "      --fill-color: #1967D2;\n",
              "      --hover-bg-color: #E2EBFA;\n",
              "      --hover-fill-color: #174EA6;\n",
              "      --disabled-fill-color: #AAA;\n",
              "      --disabled-bg-color: #DDD;\n",
              "  }\n",
              "\n",
              "  [theme=dark] .colab-df-quickchart {\n",
              "      --bg-color: #3B4455;\n",
              "      --fill-color: #D2E3FC;\n",
              "      --hover-bg-color: #434B5C;\n",
              "      --hover-fill-color: #FFFFFF;\n",
              "      --disabled-bg-color: #3B4455;\n",
              "      --disabled-fill-color: #666;\n",
              "  }\n",
              "\n",
              "  .colab-df-quickchart {\n",
              "    background-color: var(--bg-color);\n",
              "    border: none;\n",
              "    border-radius: 50%;\n",
              "    cursor: pointer;\n",
              "    display: none;\n",
              "    fill: var(--fill-color);\n",
              "    height: 32px;\n",
              "    padding: 0;\n",
              "    width: 32px;\n",
              "  }\n",
              "\n",
              "  .colab-df-quickchart:hover {\n",
              "    background-color: var(--hover-bg-color);\n",
              "    box-shadow: 0 1px 2px rgba(60, 64, 67, 0.3), 0 1px 3px 1px rgba(60, 64, 67, 0.15);\n",
              "    fill: var(--button-hover-fill-color);\n",
              "  }\n",
              "\n",
              "  .colab-df-quickchart-complete:disabled,\n",
              "  .colab-df-quickchart-complete:disabled:hover {\n",
              "    background-color: var(--disabled-bg-color);\n",
              "    fill: var(--disabled-fill-color);\n",
              "    box-shadow: none;\n",
              "  }\n",
              "\n",
              "  .colab-df-spinner {\n",
              "    border: 2px solid var(--fill-color);\n",
              "    border-color: transparent;\n",
              "    border-bottom-color: var(--fill-color);\n",
              "    animation:\n",
              "      spin 1s steps(1) infinite;\n",
              "  }\n",
              "\n",
              "  @keyframes spin {\n",
              "    0% {\n",
              "      border-color: transparent;\n",
              "      border-bottom-color: var(--fill-color);\n",
              "      border-left-color: var(--fill-color);\n",
              "    }\n",
              "    20% {\n",
              "      border-color: transparent;\n",
              "      border-left-color: var(--fill-color);\n",
              "      border-top-color: var(--fill-color);\n",
              "    }\n",
              "    30% {\n",
              "      border-color: transparent;\n",
              "      border-left-color: var(--fill-color);\n",
              "      border-top-color: var(--fill-color);\n",
              "      border-right-color: var(--fill-color);\n",
              "    }\n",
              "    40% {\n",
              "      border-color: transparent;\n",
              "      border-right-color: var(--fill-color);\n",
              "      border-top-color: var(--fill-color);\n",
              "    }\n",
              "    60% {\n",
              "      border-color: transparent;\n",
              "      border-right-color: var(--fill-color);\n",
              "    }\n",
              "    80% {\n",
              "      border-color: transparent;\n",
              "      border-right-color: var(--fill-color);\n",
              "      border-bottom-color: var(--fill-color);\n",
              "    }\n",
              "    90% {\n",
              "      border-color: transparent;\n",
              "      border-bottom-color: var(--fill-color);\n",
              "    }\n",
              "  }\n",
              "</style>\n",
              "\n",
              "  <script>\n",
              "    async function quickchart(key) {\n",
              "      const quickchartButtonEl =\n",
              "        document.querySelector('#' + key + ' button');\n",
              "      quickchartButtonEl.disabled = true;  // To prevent multiple clicks.\n",
              "      quickchartButtonEl.classList.add('colab-df-spinner');\n",
              "      try {\n",
              "        const charts = await google.colab.kernel.invokeFunction(\n",
              "            'suggestCharts', [key], {});\n",
              "      } catch (error) {\n",
              "        console.error('Error during call to suggestCharts:', error);\n",
              "      }\n",
              "      quickchartButtonEl.classList.remove('colab-df-spinner');\n",
              "      quickchartButtonEl.classList.add('colab-df-quickchart-complete');\n",
              "    }\n",
              "    (() => {\n",
              "      let quickchartButtonEl =\n",
              "        document.querySelector('#df-afa31231-affd-454e-85d3-77abec956f1e button');\n",
              "      quickchartButtonEl.style.display =\n",
              "        google.colab.kernel.accessAllowed ? 'block' : 'none';\n",
              "    })();\n",
              "  </script>\n",
              "</div>\n",
              "\n",
              "    </div>\n",
              "  </div>\n"
            ]
          },
          "metadata": {},
          "execution_count": 63
        }
      ]
    },
    {
      "cell_type": "code",
      "source": [
        "daku.shape"
      ],
      "metadata": {
        "colab": {
          "base_uri": "https://localhost:8080/"
        },
        "id": "soKWGK-i5T-I",
        "outputId": "496855aa-0ac9-4565-dd19-433f4dc98566"
      },
      "execution_count": 64,
      "outputs": [
        {
          "output_type": "execute_result",
          "data": {
            "text/plain": [
              "(2000, 2)"
            ]
          },
          "metadata": {},
          "execution_count": 64
        }
      ]
    },
    {
      "cell_type": "code",
      "source": [],
      "metadata": {
        "id": "fOpqWg135UoX"
      },
      "execution_count": null,
      "outputs": []
    }
  ]
}